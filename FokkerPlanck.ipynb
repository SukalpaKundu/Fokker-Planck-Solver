{
 "cells": [
  {
   "cell_type": "code",
   "execution_count": 1,
   "id": "a37538d3",
   "metadata": {},
   "outputs": [],
   "source": [
    "import numpy as np\n",
    "import matplotlib.pyplot as plt"
   ]
  },
  {
   "cell_type": "code",
   "execution_count": 2,
   "id": "bfcb6801",
   "metadata": {},
   "outputs": [],
   "source": [
    "def mu_drift(x,t):\n",
    "    return -x       # the drift\n",
    "\n",
    "def Dif(x,t):\n",
    "    return 1        # diffusion coefficient\n",
    "\n",
    "def get_arraytot(psi):\n",
    "    \n",
    "    Nx            = np.size(psi)\n",
    "    psi_tot       = np.zeros(Nx+2).astype('float64')\n",
    "    \n",
    "    psi_tot[1:-1] = psi\n",
    "\n",
    "    psi_tot[0]    = psi_tot[1] -  ( psi_tot[2] - psi_tot[1] )\n",
    "    psi_tot[-1]   = psi_tot[-2] +  ( psi_tot[-2] - psi_tot[-3] )\n",
    "    \n",
    "    return psi_tot  # add ghost cells to domain boundary, with linearly interpolated values"
   ]
  },
  {
   "cell_type": "code",
   "execution_count": 3,
   "id": "cb24d843",
   "metadata": {},
   "outputs": [],
   "source": [
    "# Parameters of the simulation\n",
    "\n",
    "xbeg = -10  # xmin\n",
    "xend = 10   # xmax\n",
    "Nx   = 100  # number of cells in active zone\n",
    "dt_0 = 1e-3 # initial time step\n",
    "CFL  = 0.9  # CFL stability factor\n",
    "tend = 10   # end time of simulation\n",
    "n_it = 10   # save snapshot at each n_it'h number of step"
   ]
  },
  {
   "cell_type": "code",
   "execution_count": 4,
   "id": "569750f9",
   "metadata": {},
   "outputs": [],
   "source": [
    "# define the grid, grid spacing and initial distribution of the variable psi\n",
    "\n",
    "xp       = np.linspace(xbeg,xend,Nx)\n",
    "dx       = xp[1] - xp[0]\n",
    "psi_init = np.exp(-(xp-3)**4)  \n",
    "\n",
    "#***************************************************************************\n",
    "\n",
    "# define auxiliary arrays for computation***********************************\n",
    "\n",
    "dmxp_dx   = np.zeros_like(psi_init)\n",
    "d2Dxp_dx2 = np.zeros_like(psi_init)\n",
    "xp_tot    = get_arraytot(xp)  # addd ghost cells\n",
    "\n",
    "#***************************************************************************\n",
    "\n",
    "\n",
    "#start computation**********************************************************\n",
    "\n",
    "t             = 0\n",
    "psi           = psi_init\n",
    "dt            = dt_0\n",
    "it            = 0\n",
    "plt.figure(figsize=(6,4))\n",
    "\n",
    "while (t<tend):  # beginning of time loop\n",
    "    \n",
    "    if it % n_it == 0:\n",
    "        plt.xlabel(r\"$x$\")\n",
    "        plt.ylabel(r\"$\\psi$\")\n",
    "        plt.xlim([xbeg,xend])\n",
    "        plt.ylim([-4,4])\n",
    "        plt.plot(xp,psi)\n",
    "        plt.savefig(\"ps\"+str(it)+\".png\",dpi=300)\n",
    "        plt.clf()\n",
    "        plt.close()\n",
    "    \n",
    "    psi_tot     = get_arraytot(psi)  # add ghost cells\n",
    "    \n",
    "    \n",
    "    mu_tot      = [mu_drift(x,t) for x in xp_tot]\n",
    "    mu_x_psitot = mu_tot * psi_tot\n",
    "    dmxp_dx     = (mu_x_psitot[2:Nx+2]-mu_x_psitot[0:Nx])/(2*dx)\n",
    "    \n",
    "    D_tot       = [Dif(x,t) for x in xp_tot]\n",
    "    D_x_psitot  = D_tot * psi_tot\n",
    "    d2Dxp_dx2   = (D_x_psitot[2:Nx+2]-2*D_x_psitot[1:Nx+1]+D_x_psitot[0:Nx])/(2*dx**2)\n",
    "    \n",
    "    dt          = CFL * dx**2 / (2 * (np.max(D_tot)) )  # deetrmine dt with CFL stability criteria\n",
    "    \n",
    "    \n",
    "    \n",
    "    psi         += dt * ( - dmxp_dx + d2Dxp_dx2 )       # update the distribution\n",
    "    \n",
    "    t           += dt\n",
    "    it          = it + 1"
   ]
  }
 ],
 "metadata": {
  "kernelspec": {
   "display_name": "Python 3 (ipykernel)",
   "language": "python",
   "name": "python3"
  },
  "language_info": {
   "codemirror_mode": {
    "name": "ipython",
    "version": 3
   },
   "file_extension": ".py",
   "mimetype": "text/x-python",
   "name": "python",
   "nbconvert_exporter": "python",
   "pygments_lexer": "ipython3",
   "version": "3.10.12"
  }
 },
 "nbformat": 4,
 "nbformat_minor": 5
}
